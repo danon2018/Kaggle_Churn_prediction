{
 "cells": [
  {
   "cell_type": "markdown",
   "metadata": {
    "id": "TK7oX5qdEEYr"
   },
   "source": [
    "<p style=\"align: center;\"><img align=center src=\"https://s8.hostingkartinok.com/uploads/images/2018/08/308b49fcfbc619d629fe4604bceb67ac.jpg\" width=500 height=450/></p>\n",
    "\n",
    "<h3 style=\"text-align: center;\"><b>Школа глубокого обучения ФПМИ МФТИ</b></h3>\n",
    "\n",
    "<h3 style=\"text-align: center;\"><b>Домашнее задание. Продвинутый поток. Весна 2021</b></h3>\n",
    "\n",
    "Это домашнее задание будет посвящено полноценному решению задачи машинного обучения."
   ]
  },
  {
   "cell_type": "markdown",
   "metadata": {
    "id": "zlB-owfaEEYs"
   },
   "source": [
    "Есть две части этого домашнего задания: \n",
    "* Сделать полноценный отчет о вашей работе: как вы обработали данные, какие модели попробовали и какие результаты получились (максимум 10 баллов). За каждую выполненную часть будет начислено определенное количество баллов.\n",
    "* Лучшее решение отправить в соревнование на [kaggle](https://www.kaggle.com/c/advanced-dls-spring-2021/) (максимум 5 баллов). За прохождение определенного порогов будут начисляться баллы.\n",
    "\n",
    "\n",
    "**Обе части будут проверяться в формате peer-review. Т.е. вашу посылку на степик будут проверять несколько других студентов и аггрегация их оценок будет выставлена. В то же время вам тоже нужно будет проверить несколько других учеников.**\n",
    "\n",
    "**Пожалуйста, делайте свою работу чистой и понятной, чтобы облегчить проверку. Если у вас будут проблемы с решением или хочется совета, то пишите в наш чат в телеграме или в лс @runfme. Если вы захотите проаппелировать оценку, то пипшите в лс @runfme.**\n",
    "\n",
    "**Во всех пунктах указания это минимальный набор вещей, которые стоит сделать. Если вы можете сделать какой-то шаг лучше или добавить что-то свое - дерзайте!**"
   ]
  },
  {
   "cell_type": "markdown",
   "metadata": {
    "id": "Tu_JvqcBEN8Y"
   },
   "source": [
    "# Как проверять?\n",
    "\n",
    "Ставьте полный балл, если выполнены все рекомендации или сделано что-то более интересное и сложное. За каждый отсустствующий пункт из рекомендация снижайте 1 балл."
   ]
  },
  {
   "cell_type": "markdown",
   "metadata": {
    "id": "ninJ63mJEEYt"
   },
   "source": [
    "# Метрика\n",
    "\n",
    "Перед решением любой задачи важно понимать, как будет оцениваться ваше решение. В данном случае мы используем стандартную для задачи классификации метрику ROC-AUC. Ее можно вычислить используя только предсказанные вероятности и истинные классы без конкретного порога классификации + она работает даже если классы в данных сильно несбалансированны (примеров одного класса в десятки раз больше примеров другого). Именно поэтому она очень удобна для соревнований.\n",
    "\n",
    "Посчитать ее легко:\n"
   ]
  },
  {
   "cell_type": "code",
   "execution_count": 1,
   "metadata": {
    "id": "SQIrka7yEEYu",
    "outputId": "ef45a9f2-7571-47b1-e697-b474b65cb0fb"
   },
   "outputs": [
    {
     "data": {
      "text/plain": [
       "0.8333333333333333"
      ]
     },
     "execution_count": 1,
     "metadata": {},
     "output_type": "execute_result"
    }
   ],
   "source": [
    "from sklearn.metrics import roc_auc_score\n",
    "\n",
    "y_true = [\n",
    "    0,\n",
    "    1,\n",
    "    1,\n",
    "    0,\n",
    "    1\n",
    "]\n",
    "\n",
    "y_predictions = [\n",
    "    0.1,\n",
    "    0.9,\n",
    "    0.4,\n",
    "    0.6,\n",
    "    0.61\n",
    "]\n",
    "\n",
    "roc_auc_score(y_true, y_predictions)"
   ]
  },
  {
   "cell_type": "markdown",
   "metadata": {},
   "source": [
    "# Информация для Kaggle Competition"
   ]
  },
  {
   "cell_type": "markdown",
   "metadata": {},
   "source": [
    "- Ник на Kaggle: **danon2018**.\n",
    "- Team name на Kaggle: **Даниил_Востриков**"
   ]
  },
  {
   "cell_type": "markdown",
   "metadata": {
    "id": "IrDNNkNTEEYz"
   },
   "source": [
    "# Первая часть. Исследование"
   ]
  },
  {
   "cell_type": "code",
   "execution_count": 1,
   "metadata": {
    "id": "lzLqEeZKEEYz"
   },
   "outputs": [],
   "source": [
    "import pandas as pd\n",
    "import numpy as np\n",
    "from matplotlib import pyplot as plt"
   ]
  },
  {
   "cell_type": "markdown",
   "metadata": {
    "id": "LOlxdURSEEY3"
   },
   "source": [
    "## Загрузка данных (2 балла)\n",
    "\n",
    "1) Посмотрите на случайные строчки. \n",
    "\n",
    "2) Посмотрите, есть ли в датасете незаполненные значения (nan'ы) с помощью data.isna() или data.info() и, если нужно, замените их на что-то. Будет хорошо, если вы построите табличку с количеством nan в каждой колонке."
   ]
  },
  {
   "cell_type": "code",
   "execution_count": 2,
   "metadata": {
    "id": "pw-Brue9EEY3"
   },
   "outputs": [],
   "source": [
    "data = pd.read_csv('./train.csv')"
   ]
  },
  {
   "cell_type": "code",
   "execution_count": 3,
   "metadata": {
    "id": "KgnkkF5bEEY9"
   },
   "outputs": [],
   "source": [
    "# Для вашего удобства списки с именами разных колонок\n",
    "\n",
    "# Числовые признаки\n",
    "num_cols = [\n",
    "    'ClientPeriod',\n",
    "    'MonthlySpending',\n",
    "    'TotalSpent'\n",
    "]\n",
    "\n",
    "# Категориальные признаки\n",
    "cat_cols = [\n",
    "    'Sex',\n",
    "    'IsSeniorCitizen',\n",
    "    'HasPartner',\n",
    "    'HasChild',\n",
    "    'HasPhoneService',\n",
    "    'HasMultiplePhoneNumbers',\n",
    "    'HasInternetService',\n",
    "    'HasOnlineSecurityService',\n",
    "    'HasOnlineBackup',\n",
    "    'HasDeviceProtection',\n",
    "    'HasTechSupportAccess',\n",
    "    'HasOnlineTV',\n",
    "    'HasMovieSubscription',\n",
    "    'HasContractPhone',\n",
    "    'IsBillingPaperless',\n",
    "    'PaymentMethod'\n",
    "]\n",
    "\n",
    "feature_cols = num_cols + cat_cols\n",
    "target_col = 'Churn'"
   ]
  },
  {
   "cell_type": "code",
   "execution_count": 4,
   "metadata": {},
   "outputs": [
    {
     "name": "stdout",
     "output_type": "stream",
     "text": [
      "<class 'pandas.core.frame.DataFrame'>\n",
      "RangeIndex: 5282 entries, 0 to 5281\n",
      "Data columns (total 20 columns):\n",
      " #   Column                    Non-Null Count  Dtype  \n",
      "---  ------                    --------------  -----  \n",
      " 0   ClientPeriod              5282 non-null   int64  \n",
      " 1   MonthlySpending           5282 non-null   float64\n",
      " 2   TotalSpent                5282 non-null   object \n",
      " 3   Sex                       5282 non-null   object \n",
      " 4   IsSeniorCitizen           5282 non-null   int64  \n",
      " 5   HasPartner                5282 non-null   object \n",
      " 6   HasChild                  5282 non-null   object \n",
      " 7   HasPhoneService           5282 non-null   object \n",
      " 8   HasMultiplePhoneNumbers   5282 non-null   object \n",
      " 9   HasInternetService        5282 non-null   object \n",
      " 10  HasOnlineSecurityService  5282 non-null   object \n",
      " 11  HasOnlineBackup           5282 non-null   object \n",
      " 12  HasDeviceProtection       5282 non-null   object \n",
      " 13  HasTechSupportAccess      5282 non-null   object \n",
      " 14  HasOnlineTV               5282 non-null   object \n",
      " 15  HasMovieSubscription      5282 non-null   object \n",
      " 16  HasContractPhone          5282 non-null   object \n",
      " 17  IsBillingPaperless        5282 non-null   object \n",
      " 18  PaymentMethod             5282 non-null   object \n",
      " 19  Churn                     5282 non-null   int64  \n",
      "dtypes: float64(1), int64(3), object(16)\n",
      "memory usage: 825.4+ KB\n"
     ]
    }
   ],
   "source": [
    "data.info()"
   ]
  },
  {
   "cell_type": "markdown",
   "metadata": {},
   "source": [
    "Пока можно заметить следующее: `TotalSpent` - это числовой признак, однако в датафрейме он имеет тип `object`, `IsSeniorCitizen` - категориальный признак, однако в датафрейме он имеет тип `int64`. Исправим это:"
   ]
  },
  {
   "cell_type": "code",
   "execution_count": 5,
   "metadata": {},
   "outputs": [],
   "source": [
    "data['TotalSpent'] = pd.to_numeric(data['TotalSpent'], errors='coerce', downcast='float')\n",
    "data['IsSeniorCitizen'] = data['IsSeniorCitizen'].astype(str)\n",
    "data['IsSeniorCitizen'] = data['IsSeniorCitizen'].replace({'0': 'No', '1': 'Yes'})"
   ]
  },
  {
   "cell_type": "code",
   "execution_count": 6,
   "metadata": {},
   "outputs": [
    {
     "data": {
      "text/html": [
       "<div>\n",
       "<style scoped>\n",
       "    .dataframe tbody tr th:only-of-type {\n",
       "        vertical-align: middle;\n",
       "    }\n",
       "\n",
       "    .dataframe tbody tr th {\n",
       "        vertical-align: top;\n",
       "    }\n",
       "\n",
       "    .dataframe thead th {\n",
       "        text-align: right;\n",
       "    }\n",
       "</style>\n",
       "<table border=\"1\" class=\"dataframe\">\n",
       "  <thead>\n",
       "    <tr style=\"text-align: right;\">\n",
       "      <th></th>\n",
       "      <th>ClientPeriod</th>\n",
       "      <th>MonthlySpending</th>\n",
       "      <th>TotalSpent</th>\n",
       "      <th>Sex</th>\n",
       "      <th>IsSeniorCitizen</th>\n",
       "      <th>HasPartner</th>\n",
       "      <th>HasChild</th>\n",
       "      <th>HasPhoneService</th>\n",
       "      <th>HasMultiplePhoneNumbers</th>\n",
       "      <th>HasInternetService</th>\n",
       "      <th>HasOnlineSecurityService</th>\n",
       "      <th>HasOnlineBackup</th>\n",
       "      <th>HasDeviceProtection</th>\n",
       "      <th>HasTechSupportAccess</th>\n",
       "      <th>HasOnlineTV</th>\n",
       "      <th>HasMovieSubscription</th>\n",
       "      <th>HasContractPhone</th>\n",
       "      <th>IsBillingPaperless</th>\n",
       "      <th>PaymentMethod</th>\n",
       "      <th>Churn</th>\n",
       "    </tr>\n",
       "  </thead>\n",
       "  <tbody>\n",
       "    <tr>\n",
       "      <th>0</th>\n",
       "      <td>55</td>\n",
       "      <td>19.50</td>\n",
       "      <td>1026.349976</td>\n",
       "      <td>Male</td>\n",
       "      <td>No</td>\n",
       "      <td>Yes</td>\n",
       "      <td>Yes</td>\n",
       "      <td>Yes</td>\n",
       "      <td>No</td>\n",
       "      <td>No</td>\n",
       "      <td>No internet service</td>\n",
       "      <td>No internet service</td>\n",
       "      <td>No internet service</td>\n",
       "      <td>No internet service</td>\n",
       "      <td>No internet service</td>\n",
       "      <td>No internet service</td>\n",
       "      <td>One year</td>\n",
       "      <td>No</td>\n",
       "      <td>Mailed check</td>\n",
       "      <td>0</td>\n",
       "    </tr>\n",
       "    <tr>\n",
       "      <th>1</th>\n",
       "      <td>72</td>\n",
       "      <td>25.85</td>\n",
       "      <td>1872.199951</td>\n",
       "      <td>Male</td>\n",
       "      <td>No</td>\n",
       "      <td>Yes</td>\n",
       "      <td>No</td>\n",
       "      <td>Yes</td>\n",
       "      <td>Yes</td>\n",
       "      <td>No</td>\n",
       "      <td>No internet service</td>\n",
       "      <td>No internet service</td>\n",
       "      <td>No internet service</td>\n",
       "      <td>No internet service</td>\n",
       "      <td>No internet service</td>\n",
       "      <td>No internet service</td>\n",
       "      <td>Two year</td>\n",
       "      <td>No</td>\n",
       "      <td>Credit card (automatic)</td>\n",
       "      <td>0</td>\n",
       "    </tr>\n",
       "    <tr>\n",
       "      <th>2</th>\n",
       "      <td>1</td>\n",
       "      <td>75.90</td>\n",
       "      <td>75.900002</td>\n",
       "      <td>Male</td>\n",
       "      <td>No</td>\n",
       "      <td>No</td>\n",
       "      <td>No</td>\n",
       "      <td>Yes</td>\n",
       "      <td>No</td>\n",
       "      <td>Fiber optic</td>\n",
       "      <td>No</td>\n",
       "      <td>No</td>\n",
       "      <td>No</td>\n",
       "      <td>Yes</td>\n",
       "      <td>No</td>\n",
       "      <td>No</td>\n",
       "      <td>Month-to-month</td>\n",
       "      <td>Yes</td>\n",
       "      <td>Electronic check</td>\n",
       "      <td>1</td>\n",
       "    </tr>\n",
       "    <tr>\n",
       "      <th>3</th>\n",
       "      <td>32</td>\n",
       "      <td>79.30</td>\n",
       "      <td>2570.000000</td>\n",
       "      <td>Female</td>\n",
       "      <td>Yes</td>\n",
       "      <td>Yes</td>\n",
       "      <td>No</td>\n",
       "      <td>Yes</td>\n",
       "      <td>Yes</td>\n",
       "      <td>Fiber optic</td>\n",
       "      <td>No</td>\n",
       "      <td>No</td>\n",
       "      <td>Yes</td>\n",
       "      <td>No</td>\n",
       "      <td>No</td>\n",
       "      <td>No</td>\n",
       "      <td>Month-to-month</td>\n",
       "      <td>No</td>\n",
       "      <td>Mailed check</td>\n",
       "      <td>0</td>\n",
       "    </tr>\n",
       "    <tr>\n",
       "      <th>4</th>\n",
       "      <td>60</td>\n",
       "      <td>115.25</td>\n",
       "      <td>6758.450195</td>\n",
       "      <td>Female</td>\n",
       "      <td>No</td>\n",
       "      <td>Yes</td>\n",
       "      <td>Yes</td>\n",
       "      <td>Yes</td>\n",
       "      <td>Yes</td>\n",
       "      <td>Fiber optic</td>\n",
       "      <td>Yes</td>\n",
       "      <td>Yes</td>\n",
       "      <td>Yes</td>\n",
       "      <td>Yes</td>\n",
       "      <td>Yes</td>\n",
       "      <td>Yes</td>\n",
       "      <td>Two year</td>\n",
       "      <td>No</td>\n",
       "      <td>Credit card (automatic)</td>\n",
       "      <td>0</td>\n",
       "    </tr>\n",
       "  </tbody>\n",
       "</table>\n",
       "</div>"
      ],
      "text/plain": [
       "   ClientPeriod  MonthlySpending   TotalSpent     Sex IsSeniorCitizen  \\\n",
       "0            55            19.50  1026.349976    Male              No   \n",
       "1            72            25.85  1872.199951    Male              No   \n",
       "2             1            75.90    75.900002    Male              No   \n",
       "3            32            79.30  2570.000000  Female             Yes   \n",
       "4            60           115.25  6758.450195  Female              No   \n",
       "\n",
       "  HasPartner HasChild HasPhoneService HasMultiplePhoneNumbers  \\\n",
       "0        Yes      Yes             Yes                      No   \n",
       "1        Yes       No             Yes                     Yes   \n",
       "2         No       No             Yes                      No   \n",
       "3        Yes       No             Yes                     Yes   \n",
       "4        Yes      Yes             Yes                     Yes   \n",
       "\n",
       "  HasInternetService HasOnlineSecurityService      HasOnlineBackup  \\\n",
       "0                 No      No internet service  No internet service   \n",
       "1                 No      No internet service  No internet service   \n",
       "2        Fiber optic                       No                   No   \n",
       "3        Fiber optic                       No                   No   \n",
       "4        Fiber optic                      Yes                  Yes   \n",
       "\n",
       "   HasDeviceProtection HasTechSupportAccess          HasOnlineTV  \\\n",
       "0  No internet service  No internet service  No internet service   \n",
       "1  No internet service  No internet service  No internet service   \n",
       "2                   No                  Yes                   No   \n",
       "3                  Yes                   No                   No   \n",
       "4                  Yes                  Yes                  Yes   \n",
       "\n",
       "  HasMovieSubscription HasContractPhone IsBillingPaperless  \\\n",
       "0  No internet service         One year                 No   \n",
       "1  No internet service         Two year                 No   \n",
       "2                   No   Month-to-month                Yes   \n",
       "3                   No   Month-to-month                 No   \n",
       "4                  Yes         Two year                 No   \n",
       "\n",
       "             PaymentMethod  Churn  \n",
       "0             Mailed check      0  \n",
       "1  Credit card (automatic)      0  \n",
       "2         Electronic check      1  \n",
       "3             Mailed check      0  \n",
       "4  Credit card (automatic)      0  "
      ]
     },
     "execution_count": 6,
     "metadata": {},
     "output_type": "execute_result"
    }
   ],
   "source": [
    "data.head(5)"
   ]
  },
  {
   "cell_type": "markdown",
   "metadata": {},
   "source": [
    "Из выведенной таблицы видно, что есть много текстовых строк, где вместо `Nan` могут использоваться какие-то слова/словосочетания(например, Not found и т.д.). Посмотрим на уникальные значения в каждом столбце, и при необходимости заменим соответствующие словосочетания на значение `Nan`."
   ]
  },
  {
   "cell_type": "code",
   "execution_count": 7,
   "metadata": {},
   "outputs": [
    {
     "name": "stdout",
     "output_type": "stream",
     "text": [
      "Sex: ['Male' 'Female']\n",
      "IsSeniorCitizen: ['No' 'Yes']\n",
      "HasPartner: ['Yes' 'No']\n",
      "HasPhoneService: ['Yes' 'No']\n",
      "HasMultiplePhoneNumbers: ['No' 'Yes' 'No phone service']\n",
      "HasOnlineSecurityService: ['No internet service' 'No' 'Yes']\n",
      "HasInternetService: ['No' 'Fiber optic' 'DSL']\n",
      "HasOnlineBackup: ['No internet service' 'No' 'Yes']\n",
      "HasDeviceProtection: ['No internet service' 'No' 'Yes']\n",
      "HasTechSupportAccess: ['No internet service' 'Yes' 'No']\n",
      "HasOnlineTV: ['No internet service' 'No' 'Yes']\n",
      "HasMovieSubscription: ['No internet service' 'No' 'Yes']\n",
      "HasContractPhone: ['One year' 'Two year' 'Month-to-month']\n",
      "IsBillingPaperless: ['No' 'Yes']\n",
      "PaymentMethod: ['Mailed check' 'Credit card (automatic)' 'Electronic check'\n",
      " 'Bank transfer (automatic)']\n"
     ]
    }
   ],
   "source": [
    "print('Sex:', data['Sex'].unique())\n",
    "print('IsSeniorCitizen:', data['IsSeniorCitizen'].unique())\n",
    "print('HasPartner:', data['HasPartner'].unique())\n",
    "print('HasPhoneService:', data['HasPhoneService'].unique())\n",
    "print('HasMultiplePhoneNumbers:', data['HasMultiplePhoneNumbers'].unique())\n",
    "print('HasOnlineSecurityService:', data['HasOnlineSecurityService'].unique())\n",
    "print('HasInternetService:', data['HasInternetService'].unique())\n",
    "print('HasOnlineBackup:', data['HasOnlineBackup'].unique())\n",
    "print('HasDeviceProtection:', data['HasDeviceProtection'].unique())\n",
    "print('HasTechSupportAccess:', data['HasTechSupportAccess'].unique())\n",
    "print('HasOnlineTV:', data['HasOnlineTV'].unique())\n",
    "print('HasMovieSubscription:', data['HasMovieSubscription'].unique())\n",
    "print('HasContractPhone:', data['HasContractPhone'].unique())\n",
    "print('IsBillingPaperless:', data['IsBillingPaperless'].unique())\n",
    "print('PaymentMethod:', data['PaymentMethod'].unique())"
   ]
  },
  {
   "cell_type": "markdown",
   "metadata": {},
   "source": [
    "В колонках `HasMultiplePhoneNumbers`, `HasOnlineSecurityService`, `HasOnlineBackup`, `HasDeviceProtection`, `HasTechSupportAccess`, `HasOnlineTV`, `HasMovieSubscription` присутствуют значения `No phone service'`(соответствует значению `No` в колонке `HasPhoneService`) и `No internet service`(соответствует значению `No` в колонке `HasInternetService`), что является дублированием. Заменим все такие значения на просто `No`:"
   ]
  },
  {
   "cell_type": "code",
   "execution_count": 8,
   "metadata": {},
   "outputs": [],
   "source": [
    "data['HasMultiplePhoneNumbers'] = data['HasMultiplePhoneNumbers'].replace('No phone service', 'No')\n",
    "data['HasOnlineSecurityService'] = data['HasOnlineSecurityService'].replace('No internet service', 'No')\n",
    "data['HasOnlineBackup'] = data['HasOnlineBackup'].replace('No internet service', 'No')\n",
    "data['HasDeviceProtection'] = data['HasDeviceProtection'].replace('No internet service', 'No')\n",
    "data['HasTechSupportAccess'] = data['HasTechSupportAccess'].replace('No internet service', 'No')\n",
    "data['HasOnlineTV'] = data['HasOnlineTV'].replace('No internet service', 'No')\n",
    "data['HasMovieSubscription'] = data['HasMovieSubscription'].replace('No internet service', 'No')"
   ]
  },
  {
   "cell_type": "markdown",
   "metadata": {},
   "source": [
    "Выведем теперь диаграмму, показывающую количество пропущенных значений для каждого признака:"
   ]
  },
  {
   "cell_type": "code",
   "execution_count": 9,
   "metadata": {},
   "outputs": [
    {
     "data": {
      "image/png": "[encoded data removed]",
      "text/plain": [
       "<Figure size 720x432 with 1 Axes>"
      ]
     },
     "metadata": {
      "needs_background": "light"
     },
     "output_type": "display_data"
    }
   ],
   "source": [
    "plt.figure(figsize=(10,6))\n",
    "plt.title('Распределение пропущенных значений по столбцам')\n",
    "plt.xlabel('Кол-во пропущенных значений')\n",
    "plt.barh(data.isna().sum().index, data.isna().sum().values)\n",
    "\n",
    "None"
   ]
  },
  {
   "cell_type": "markdown",
   "metadata": {},
   "source": [
    "Видим, что только в столбце `TotalSpent` есть 9 значений nan. Посмотрим на эти объекты:"
   ]
  },
  {
   "cell_type": "code",
   "execution_count": 10,
   "metadata": {},
   "outputs": [
    {
     "data": {
      "text/html": [
       "<div>\n",
       "<style scoped>\n",
       "    .dataframe tbody tr th:only-of-type {\n",
       "        vertical-align: middle;\n",
       "    }\n",
       "\n",
       "    .dataframe tbody tr th {\n",
       "        vertical-align: top;\n",
       "    }\n",
       "\n",
       "    .dataframe thead th {\n",
       "        text-align: right;\n",
       "    }\n",
       "</style>\n",
       "<table border=\"1\" class=\"dataframe\">\n",
       "  <thead>\n",
       "    <tr style=\"text-align: right;\">\n",
       "      <th></th>\n",
       "      <th>ClientPeriod</th>\n",
       "      <th>MonthlySpending</th>\n",
       "      <th>TotalSpent</th>\n",
       "      <th>Sex</th>\n",
       "      <th>IsSeniorCitizen</th>\n",
       "      <th>HasPartner</th>\n",
       "      <th>HasChild</th>\n",
       "      <th>HasPhoneService</th>\n",
       "      <th>HasMultiplePhoneNumbers</th>\n",
       "      <th>HasInternetService</th>\n",
       "      <th>HasOnlineSecurityService</th>\n",
       "      <th>HasOnlineBackup</th>\n",
       "      <th>HasDeviceProtection</th>\n",
       "      <th>HasTechSupportAccess</th>\n",
       "      <th>HasOnlineTV</th>\n",
       "      <th>HasMovieSubscription</th>\n",
       "      <th>HasContractPhone</th>\n",
       "      <th>IsBillingPaperless</th>\n",
       "      <th>PaymentMethod</th>\n",
       "      <th>Churn</th>\n",
       "    </tr>\n",
       "  </thead>\n",
       "  <tbody>\n",
       "    <tr>\n",
       "      <th>1048</th>\n",
       "      <td>0</td>\n",
       "      <td>25.75</td>\n",
       "      <td>NaN</td>\n",
       "      <td>Male</td>\n",
       "      <td>No</td>\n",
       "      <td>Yes</td>\n",
       "      <td>Yes</td>\n",
       "      <td>Yes</td>\n",
       "      <td>Yes</td>\n",
       "      <td>No</td>\n",
       "      <td>No</td>\n",
       "      <td>No</td>\n",
       "      <td>No</td>\n",
       "      <td>No</td>\n",
       "      <td>No</td>\n",
       "      <td>No</td>\n",
       "      <td>Two year</td>\n",
       "      <td>No</td>\n",
       "      <td>Mailed check</td>\n",
       "      <td>0</td>\n",
       "    </tr>\n",
       "    <tr>\n",
       "      <th>1707</th>\n",
       "      <td>0</td>\n",
       "      <td>73.35</td>\n",
       "      <td>NaN</td>\n",
       "      <td>Female</td>\n",
       "      <td>No</td>\n",
       "      <td>Yes</td>\n",
       "      <td>Yes</td>\n",
       "      <td>Yes</td>\n",
       "      <td>Yes</td>\n",
       "      <td>DSL</td>\n",
       "      <td>No</td>\n",
       "      <td>Yes</td>\n",
       "      <td>Yes</td>\n",
       "      <td>Yes</td>\n",
       "      <td>Yes</td>\n",
       "      <td>No</td>\n",
       "      <td>Two year</td>\n",
       "      <td>No</td>\n",
       "      <td>Mailed check</td>\n",
       "      <td>0</td>\n",
       "    </tr>\n",
       "    <tr>\n",
       "      <th>2543</th>\n",
       "      <td>0</td>\n",
       "      <td>19.70</td>\n",
       "      <td>NaN</td>\n",
       "      <td>Male</td>\n",
       "      <td>No</td>\n",
       "      <td>Yes</td>\n",
       "      <td>Yes</td>\n",
       "      <td>Yes</td>\n",
       "      <td>No</td>\n",
       "      <td>No</td>\n",
       "      <td>No</td>\n",
       "      <td>No</td>\n",
       "      <td>No</td>\n",
       "      <td>No</td>\n",
       "      <td>No</td>\n",
       "      <td>No</td>\n",
       "      <td>One year</td>\n",
       "      <td>Yes</td>\n",
       "      <td>Mailed check</td>\n",
       "      <td>0</td>\n",
       "    </tr>\n",
       "    <tr>\n",
       "      <th>3078</th>\n",
       "      <td>0</td>\n",
       "      <td>80.85</td>\n",
       "      <td>NaN</td>\n",
       "      <td>Female</td>\n",
       "      <td>No</td>\n",
       "      <td>Yes</td>\n",
       "      <td>Yes</td>\n",
       "      <td>Yes</td>\n",
       "      <td>No</td>\n",
       "      <td>DSL</td>\n",
       "      <td>Yes</td>\n",
       "      <td>Yes</td>\n",
       "      <td>Yes</td>\n",
       "      <td>No</td>\n",
       "      <td>Yes</td>\n",
       "      <td>Yes</td>\n",
       "      <td>Two year</td>\n",
       "      <td>No</td>\n",
       "      <td>Mailed check</td>\n",
       "      <td>0</td>\n",
       "    </tr>\n",
       "    <tr>\n",
       "      <th>3697</th>\n",
       "      <td>0</td>\n",
       "      <td>20.00</td>\n",
       "      <td>NaN</td>\n",
       "      <td>Female</td>\n",
       "      <td>No</td>\n",
       "      <td>Yes</td>\n",
       "      <td>Yes</td>\n",
       "      <td>Yes</td>\n",
       "      <td>No</td>\n",
       "      <td>No</td>\n",
       "      <td>No</td>\n",
       "      <td>No</td>\n",
       "      <td>No</td>\n",
       "      <td>No</td>\n",
       "      <td>No</td>\n",
       "      <td>No</td>\n",
       "      <td>Two year</td>\n",
       "      <td>No</td>\n",
       "      <td>Mailed check</td>\n",
       "      <td>0</td>\n",
       "    </tr>\n",
       "    <tr>\n",
       "      <th>4002</th>\n",
       "      <td>0</td>\n",
       "      <td>61.90</td>\n",
       "      <td>NaN</td>\n",
       "      <td>Male</td>\n",
       "      <td>No</td>\n",
       "      <td>No</td>\n",
       "      <td>Yes</td>\n",
       "      <td>Yes</td>\n",
       "      <td>Yes</td>\n",
       "      <td>DSL</td>\n",
       "      <td>Yes</td>\n",
       "      <td>Yes</td>\n",
       "      <td>No</td>\n",
       "      <td>Yes</td>\n",
       "      <td>No</td>\n",
       "      <td>No</td>\n",
       "      <td>Two year</td>\n",
       "      <td>Yes</td>\n",
       "      <td>Bank transfer (automatic)</td>\n",
       "      <td>0</td>\n",
       "    </tr>\n",
       "    <tr>\n",
       "      <th>4326</th>\n",
       "      <td>0</td>\n",
       "      <td>25.35</td>\n",
       "      <td>NaN</td>\n",
       "      <td>Male</td>\n",
       "      <td>No</td>\n",
       "      <td>Yes</td>\n",
       "      <td>Yes</td>\n",
       "      <td>Yes</td>\n",
       "      <td>Yes</td>\n",
       "      <td>No</td>\n",
       "      <td>No</td>\n",
       "      <td>No</td>\n",
       "      <td>No</td>\n",
       "      <td>No</td>\n",
       "      <td>No</td>\n",
       "      <td>No</td>\n",
       "      <td>Two year</td>\n",
       "      <td>No</td>\n",
       "      <td>Mailed check</td>\n",
       "      <td>0</td>\n",
       "    </tr>\n",
       "    <tr>\n",
       "      <th>4551</th>\n",
       "      <td>0</td>\n",
       "      <td>52.55</td>\n",
       "      <td>NaN</td>\n",
       "      <td>Female</td>\n",
       "      <td>No</td>\n",
       "      <td>Yes</td>\n",
       "      <td>Yes</td>\n",
       "      <td>No</td>\n",
       "      <td>No</td>\n",
       "      <td>DSL</td>\n",
       "      <td>Yes</td>\n",
       "      <td>No</td>\n",
       "      <td>Yes</td>\n",
       "      <td>Yes</td>\n",
       "      <td>Yes</td>\n",
       "      <td>No</td>\n",
       "      <td>Two year</td>\n",
       "      <td>Yes</td>\n",
       "      <td>Bank transfer (automatic)</td>\n",
       "      <td>0</td>\n",
       "    </tr>\n",
       "    <tr>\n",
       "      <th>4598</th>\n",
       "      <td>0</td>\n",
       "      <td>56.05</td>\n",
       "      <td>NaN</td>\n",
       "      <td>Female</td>\n",
       "      <td>No</td>\n",
       "      <td>Yes</td>\n",
       "      <td>Yes</td>\n",
       "      <td>No</td>\n",
       "      <td>No</td>\n",
       "      <td>DSL</td>\n",
       "      <td>Yes</td>\n",
       "      <td>Yes</td>\n",
       "      <td>Yes</td>\n",
       "      <td>Yes</td>\n",
       "      <td>Yes</td>\n",
       "      <td>No</td>\n",
       "      <td>Two year</td>\n",
       "      <td>No</td>\n",
       "      <td>Credit card (automatic)</td>\n",
       "      <td>0</td>\n",
       "    </tr>\n",
       "  </tbody>\n",
       "</table>\n",
       "</div>"
      ],
      "text/plain": [
       "      ClientPeriod  MonthlySpending  TotalSpent     Sex IsSeniorCitizen  \\\n",
       "1048             0            25.75         NaN    Male              No   \n",
       "1707             0            73.35         NaN  Female              No   \n",
       "2543             0            19.70         NaN    Male              No   \n",
       "3078             0            80.85         NaN  Female              No   \n",
       "3697             0            20.00         NaN  Female              No   \n",
       "4002             0            61.90         NaN    Male              No   \n",
       "4326             0            25.35         NaN    Male              No   \n",
       "4551             0            52.55         NaN  Female              No   \n",
       "4598             0            56.05         NaN  Female              No   \n",
       "\n",
       "     HasPartner HasChild HasPhoneService HasMultiplePhoneNumbers  \\\n",
       "1048        Yes      Yes             Yes                     Yes   \n",
       "1707        Yes      Yes             Yes                     Yes   \n",
       "2543        Yes      Yes             Yes                      No   \n",
       "3078        Yes      Yes             Yes                      No   \n",
       "3697        Yes      Yes             Yes                      No   \n",
       "4002         No      Yes             Yes                     Yes   \n",
       "4326        Yes      Yes             Yes                     Yes   \n",
       "4551        Yes      Yes              No                      No   \n",
       "4598        Yes      Yes              No                      No   \n",
       "\n",
       "     HasInternetService HasOnlineSecurityService HasOnlineBackup  \\\n",
       "1048                 No                       No              No   \n",
       "1707                DSL                       No             Yes   \n",
       "2543                 No                       No              No   \n",
       "3078                DSL                      Yes             Yes   \n",
       "3697                 No                       No              No   \n",
       "4002                DSL                      Yes             Yes   \n",
       "4326                 No                       No              No   \n",
       "4551                DSL                      Yes              No   \n",
       "4598                DSL                      Yes             Yes   \n",
       "\n",
       "     HasDeviceProtection HasTechSupportAccess HasOnlineTV  \\\n",
       "1048                  No                   No          No   \n",
       "1707                 Yes                  Yes         Yes   \n",
       "2543                  No                   No          No   \n",
       "3078                 Yes                   No         Yes   \n",
       "3697                  No                   No          No   \n",
       "4002                  No                  Yes          No   \n",
       "4326                  No                   No          No   \n",
       "4551                 Yes                  Yes         Yes   \n",
       "4598                 Yes                  Yes         Yes   \n",
       "\n",
       "     HasMovieSubscription HasContractPhone IsBillingPaperless  \\\n",
       "1048                   No         Two year                 No   \n",
       "1707                   No         Two year                 No   \n",
       "2543                   No         One year                Yes   \n",
       "3078                  Yes         Two year                 No   \n",
       "3697                   No         Two year                 No   \n",
       "4002                   No         Two year                Yes   \n",
       "4326                   No         Two year                 No   \n",
       "4551                   No         Two year                Yes   \n",
       "4598                   No         Two year                 No   \n",
       "\n",
       "                  PaymentMethod  Churn  \n",
       "1048               Mailed check      0  \n",
       "1707               Mailed check      0  \n",
       "2543               Mailed check      0  \n",
       "3078               Mailed check      0  \n",
       "3697               Mailed check      0  \n",
       "4002  Bank transfer (automatic)      0  \n",
       "4326               Mailed check      0  \n",
       "4551  Bank transfer (automatic)      0  \n",
       "4598    Credit card (automatic)      0  "
      ]
     },
     "execution_count": 10,
     "metadata": {},
     "output_type": "execute_result"
    }
   ],
   "source": [
    "data[data['TotalSpent'].isna() == True]"
   ]
  },
  {
   "cell_type": "markdown",
   "metadata": {},
   "source": [
    "Видно, что это те люди, которые только начинают пользоваться услугами телеком-компании(`ClientPeriod` = 0). Проверим эту теорию:"
   ]
  },
  {
   "cell_type": "code",
   "execution_count": 11,
   "metadata": {},
   "outputs": [
    {
     "data": {
      "text/html": [
       "<div>\n",
       "<style scoped>\n",
       "    .dataframe tbody tr th:only-of-type {\n",
       "        vertical-align: middle;\n",
       "    }\n",
       "\n",
       "    .dataframe tbody tr th {\n",
       "        vertical-align: top;\n",
       "    }\n",
       "\n",
       "    .dataframe thead th {\n",
       "        text-align: right;\n",
       "    }\n",
       "</style>\n",
       "<table border=\"1\" class=\"dataframe\">\n",
       "  <thead>\n",
       "    <tr style=\"text-align: right;\">\n",
       "      <th></th>\n",
       "      <th>ClientPeriod</th>\n",
       "      <th>MonthlySpending</th>\n",
       "      <th>TotalSpent</th>\n",
       "      <th>Sex</th>\n",
       "      <th>IsSeniorCitizen</th>\n",
       "      <th>HasPartner</th>\n",
       "      <th>HasChild</th>\n",
       "      <th>HasPhoneService</th>\n",
       "      <th>HasMultiplePhoneNumbers</th>\n",
       "      <th>HasInternetService</th>\n",
       "      <th>HasOnlineSecurityService</th>\n",
       "      <th>HasOnlineBackup</th>\n",
       "      <th>HasDeviceProtection</th>\n",
       "      <th>HasTechSupportAccess</th>\n",
       "      <th>HasOnlineTV</th>\n",
       "      <th>HasMovieSubscription</th>\n",
       "      <th>HasContractPhone</th>\n",
       "      <th>IsBillingPaperless</th>\n",
       "      <th>PaymentMethod</th>\n",
       "      <th>Churn</th>\n",
       "    </tr>\n",
       "  </thead>\n",
       "  <tbody>\n",
       "    <tr>\n",
       "      <th>1048</th>\n",
       "      <td>0</td>\n",
       "      <td>25.75</td>\n",
       "      <td>NaN</td>\n",
       "      <td>Male</td>\n",
       "      <td>No</td>\n",
       "      <td>Yes</td>\n",
       "      <td>Yes</td>\n",
       "      <td>Yes</td>\n",
       "      <td>Yes</td>\n",
       "      <td>No</td>\n",
       "      <td>No</td>\n",
       "      <td>No</td>\n",
       "      <td>No</td>\n",
       "      <td>No</td>\n",
       "      <td>No</td>\n",
       "      <td>No</td>\n",
       "      <td>Two year</td>\n",
       "      <td>No</td>\n",
       "      <td>Mailed check</td>\n",
       "      <td>0</td>\n",
       "    </tr>\n",
       "    <tr>\n",
       "      <th>1707</th>\n",
       "      <td>0</td>\n",
       "      <td>73.35</td>\n",
       "      <td>NaN</td>\n",
       "      <td>Female</td>\n",
       "      <td>No</td>\n",
       "      <td>Yes</td>\n",
       "      <td>Yes</td>\n",
       "      <td>Yes</td>\n",
       "      <td>Yes</td>\n",
       "      <td>DSL</td>\n",
       "      <td>No</td>\n",
       "      <td>Yes</td>\n",
       "      <td>Yes</td>\n",
       "      <td>Yes</td>\n",
       "      <td>Yes</td>\n",
       "      <td>No</td>\n",
       "      <td>Two year</td>\n",
       "      <td>No</td>\n",
       "      <td>Mailed check</td>\n",
       "      <td>0</td>\n",
       "    </tr>\n",
       "    <tr>\n",
       "      <th>2543</th>\n",
       "      <td>0</td>\n",
       "      <td>19.70</td>\n",
       "      <td>NaN</td>\n",
       "      <td>Male</td>\n",
       "      <td>No</td>\n",
       "      <td>Yes</td>\n",
       "      <td>Yes</td>\n",
       "      <td>Yes</td>\n",
       "      <td>No</td>\n",
       "      <td>No</td>\n",
       "      <td>No</td>\n",
       "      <td>No</td>\n",
       "      <td>No</td>\n",
       "      <td>No</td>\n",
       "      <td>No</td>\n",
       "      <td>No</td>\n",
       "      <td>One year</td>\n",
       "      <td>Yes</td>\n",
       "      <td>Mailed check</td>\n",
       "      <td>0</td>\n",
       "    </tr>\n",
       "    <tr>\n",
       "      <th>3078</th>\n",
       "      <td>0</td>\n",
       "      <td>80.85</td>\n",
       "      <td>NaN</td>\n",
       "      <td>Female</td>\n",
       "      <td>No</td>\n",
       "      <td>Yes</td>\n",
       "      <td>Yes</td>\n",
       "      <td>Yes</td>\n",
       "      <td>No</td>\n",
       "      <td>DSL</td>\n",
       "      <td>Yes</td>\n",
       "      <td>Yes</td>\n",
       "      <td>Yes</td>\n",
       "      <td>No</td>\n",
       "      <td>Yes</td>\n",
       "      <td>Yes</td>\n",
       "      <td>Two year</td>\n",
       "      <td>No</td>\n",
       "      <td>Mailed check</td>\n",
       "      <td>0</td>\n",
       "    </tr>\n",
       "    <tr>\n",
       "      <th>3697</th>\n",
       "      <td>0</td>\n",
       "      <td>20.00</td>\n",
       "      <td>NaN</td>\n",
       "      <td>Female</td>\n",
       "      <td>No</td>\n",
       "      <td>Yes</td>\n",
       "      <td>Yes</td>\n",
       "      <td>Yes</td>\n",
       "      <td>No</td>\n",
       "      <td>No</td>\n",
       "      <td>No</td>\n",
       "      <td>No</td>\n",
       "      <td>No</td>\n",
       "      <td>No</td>\n",
       "      <td>No</td>\n",
       "      <td>No</td>\n",
       "      <td>Two year</td>\n",
       "      <td>No</td>\n",
       "      <td>Mailed check</td>\n",
       "      <td>0</td>\n",
       "    </tr>\n",
       "    <tr>\n",
       "      <th>4002</th>\n",
       "      <td>0</td>\n",
       "      <td>61.90</td>\n",
       "      <td>NaN</td>\n",
       "      <td>Male</td>\n",
       "      <td>No</td>\n",
       "      <td>No</td>\n",
       "      <td>Yes</td>\n",
       "      <td>Yes</td>\n",
       "      <td>Yes</td>\n",
       "      <td>DSL</td>\n",
       "      <td>Yes</td>\n",
       "      <td>Yes</td>\n",
       "      <td>No</td>\n",
       "      <td>Yes</td>\n",
       "      <td>No</td>\n",
       "      <td>No</td>\n",
       "      <td>Two year</td>\n",
       "      <td>Yes</td>\n",
       "      <td>Bank transfer (automatic)</td>\n",
       "      <td>0</td>\n",
       "    </tr>\n",
       "    <tr>\n",
       "      <th>4326</th>\n",
       "      <td>0</td>\n",
       "      <td>25.35</td>\n",
       "      <td>NaN</td>\n",
       "      <td>Male</td>\n",
       "      <td>No</td>\n",
       "      <td>Yes</td>\n",
       "      <td>Yes</td>\n",
       "      <td>Yes</td>\n",
       "      <td>Yes</td>\n",
       "      <td>No</td>\n",
       "      <td>No</td>\n",
       "      <td>No</td>\n",
       "      <td>No</td>\n",
       "      <td>No</td>\n",
       "      <td>No</td>\n",
       "      <td>No</td>\n",
       "      <td>Two year</td>\n",
       "      <td>No</td>\n",
       "      <td>Mailed check</td>\n",
       "      <td>0</td>\n",
       "    </tr>\n",
       "    <tr>\n",
       "      <th>4551</th>\n",
       "      <td>0</td>\n",
       "      <td>52.55</td>\n",
       "      <td>NaN</td>\n",
       "      <td>Female</td>\n",
       "      <td>No</td>\n",
       "      <td>Yes</td>\n",
       "      <td>Yes</td>\n",
       "      <td>No</td>\n",
       "      <td>No</td>\n",
       "      <td>DSL</td>\n",
       "      <td>Yes</td>\n",
       "      <td>No</td>\n",
       "      <td>Yes</td>\n",
       "      <td>Yes</td>\n",
       "      <td>Yes</td>\n",
       "      <td>No</td>\n",
       "      <td>Two year</td>\n",
       "      <td>Yes</td>\n",
       "      <td>Bank transfer (automatic)</td>\n",
       "      <td>0</td>\n",
       "    </tr>\n",
       "    <tr>\n",
       "      <th>4598</th>\n",
       "      <td>0</td>\n",
       "      <td>56.05</td>\n",
       "      <td>NaN</td>\n",
       "      <td>Female</td>\n",
       "      <td>No</td>\n",
       "      <td>Yes</td>\n",
       "      <td>Yes</td>\n",
       "      <td>No</td>\n",
       "      <td>No</td>\n",
       "      <td>DSL</td>\n",
       "      <td>Yes</td>\n",
       "      <td>Yes</td>\n",
       "      <td>Yes</td>\n",
       "      <td>Yes</td>\n",
       "      <td>Yes</td>\n",
       "      <td>No</td>\n",
       "      <td>Two year</td>\n",
       "      <td>No</td>\n",
       "      <td>Credit card (automatic)</td>\n",
       "      <td>0</td>\n",
       "    </tr>\n",
       "  </tbody>\n",
       "</table>\n",
       "</div>"
      ],
      "text/plain": [
       "      ClientPeriod  MonthlySpending  TotalSpent     Sex IsSeniorCitizen  \\\n",
       "1048             0            25.75         NaN    Male              No   \n",
       "1707             0            73.35         NaN  Female              No   \n",
       "2543             0            19.70         NaN    Male              No   \n",
       "3078             0            80.85         NaN  Female              No   \n",
       "3697             0            20.00         NaN  Female              No   \n",
       "4002             0            61.90         NaN    Male              No   \n",
       "4326             0            25.35         NaN    Male              No   \n",
       "4551             0            52.55         NaN  Female              No   \n",
       "4598             0            56.05         NaN  Female              No   \n",
       "\n",
       "     HasPartner HasChild HasPhoneService HasMultiplePhoneNumbers  \\\n",
       "1048        Yes      Yes             Yes                     Yes   \n",
       "1707        Yes      Yes             Yes                     Yes   \n",
       "2543        Yes      Yes             Yes                      No   \n",
       "3078        Yes      Yes             Yes                      No   \n",
       "3697        Yes      Yes             Yes                      No   \n",
       "4002         No      Yes             Yes                     Yes   \n",
       "4326        Yes      Yes             Yes                     Yes   \n",
       "4551        Yes      Yes              No                      No   \n",
       "4598        Yes      Yes              No                      No   \n",
       "\n",
       "     HasInternetService HasOnlineSecurityService HasOnlineBackup  \\\n",
       "1048                 No                       No              No   \n",
       "1707                DSL                       No             Yes   \n",
       "2543                 No                       No              No   \n",
       "3078                DSL                      Yes             Yes   \n",
       "3697                 No                       No              No   \n",
       "4002                DSL                      Yes             Yes   \n",
       "4326                 No                       No              No   \n",
       "4551                DSL                      Yes              No   \n",
       "4598                DSL                      Yes             Yes   \n",
       "\n",
       "     HasDeviceProtection HasTechSupportAccess HasOnlineTV  \\\n",
       "1048                  No                   No          No   \n",
       "1707                 Yes                  Yes         Yes   \n",
       "2543                  No                   No          No   \n",
       "3078                 Yes                   No         Yes   \n",
       "3697                  No                   No          No   \n",
       "4002                  No                  Yes          No   \n",
       "4326                  No                   No          No   \n",
       "4551                 Yes                  Yes         Yes   \n",
       "4598                 Yes                  Yes         Yes   \n",
       "\n",
       "     HasMovieSubscription HasContractPhone IsBillingPaperless  \\\n",
       "1048                   No         Two year                 No   \n",
       "1707                   No         Two year                 No   \n",
       "2543                   No         One year                Yes   \n",
       "3078                  Yes         Two year                 No   \n",
       "3697                   No         Two year                 No   \n",
       "4002                   No         Two year                Yes   \n",
       "4326                   No         Two year                 No   \n",
       "4551                   No         Two year                Yes   \n",
       "4598                   No         Two year                 No   \n",
       "\n",
       "                  PaymentMethod  Churn  \n",
       "1048               Mailed check      0  \n",
       "1707               Mailed check      0  \n",
       "2543               Mailed check      0  \n",
       "3078               Mailed check      0  \n",
       "3697               Mailed check      0  \n",
       "4002  Bank transfer (automatic)      0  \n",
       "4326               Mailed check      0  \n",
       "4551  Bank transfer (automatic)      0  \n",
       "4598    Credit card (automatic)      0  "
      ]
     },
     "execution_count": 11,
     "metadata": {},
     "output_type": "execute_result"
    }
   ],
   "source": [
    "data[data['ClientPeriod'] == 0]"
   ]
  },
  {
   "cell_type": "markdown",
   "metadata": {},
   "source": [
    "Теория подтверждена. Поэтому логичнее всего будет удалить данные объекты, так как они не отражают сути проблемы, ведь мы не можем судить об оттоке клиентов, которые только начинают пользоваться сервисом:"
   ]
  },
  {
   "cell_type": "code",
   "execution_count": 12,
   "metadata": {},
   "outputs": [],
   "source": [
    "data = data[data['TotalSpent'].isna() == False]"
   ]
  },
  {
   "cell_type": "markdown",
   "metadata": {},
   "source": [
    "Теперь с данными можно полноценно работать."
   ]
  },
  {
   "cell_type": "markdown",
   "metadata": {
    "id": "dK370bPCEEZD"
   },
   "source": [
    "## Анализ данных (3 балла)\n",
    "\n",
    "1) Для численных призанков постройте гистограмму (*plt.hist(...)*) или boxplot (*plt.boxplot(...)*). Для категориальных посчитайте количество каждого значения для каждого признака. Для каждой колонки надо сделать *data.value_counts()* и построить bar диаграммы *plt.bar(...)* или круговые диаграммы *plt.pie(...)* (хорошо, если вы сможете это сделать на одном гарфике с помощью *plt.subplots(...)*). \n",
    "\n",
    "2) Посмотрите на распределение целевой переменной и скажите, являются ли классы несбалансированными.\n",
    "\n",
    "3) (Если будет желание) Поиграйте с разными библиотеками для визуализации - *sns*, *pandas_visual_analysis*, etc.\n",
    "\n",
    "Второй пункт очень важен, потому что существуют задачи классификации с несбалансированными классами. Например, это может значить, что в датасете намного больше примеров 0 класса. В таких случаях нужно 1) не использовать accuracy как метрику 2) использовать методы борьбы с imbalanced dataset (обычно если датасет сильно несбалансирован, т.е. класса 1 в 20 раз меньше класса 0)."
   ]
  },
  {
   "cell_type": "code",
   "execution_count": 13,
   "metadata": {},
   "outputs": [],
   "source": [
    "import seaborn as sns"
   ]
  },
  {
   "cell_type": "markdown",
   "metadata": {
    "id": "NZkbgFJZEEZE"
   },
   "source": [
    "#### 1) Распределение численных признаков"
   ]
  },
  {
   "cell_type": "code",
   "execution_count": 14,
   "metadata": {},
   "outputs": [
    {
     "data": {
      "text/plain": [
       "['ClientPeriod', 'MonthlySpending', 'TotalSpent']"
      ]
     },
     "execution_count": 14,
     "metadata": {},
     "output_type": "execute_result"
    }
   ],
   "source": [
    "num_cols"
   ]
  },
  {
   "cell_type": "code",
   "execution_count": 15,
   "metadata": {},
   "outputs": [
    {
     "data": {
      "image/png": "[encoded data removed]",
      "text/plain": [
       "<Figure size 1296x576 with 6 Axes>"
      ]
     },
     "metadata": {
      "needs_background": "light"
     },
     "output_type": "display_data"
    }
   ],
   "source": [
    "fig, ax = plt.subplots(2, 3, figsize = (18,8))\n",
    "\n",
    "ax[0,0].hist(data['ClientPeriod'], bins=20)\n",
    "ax[0,0].set_title('Распределение для ClientPeriod')\n",
    "ax[0,0].set_xlabel('ClientPeriod')\n",
    "ax[0,0].set_ylabel('Quantity')\n",
    "\n",
    "ax[0,1].hist(data['MonthlySpending'], bins=20)\n",
    "ax[0,1].set_title('Распределение для MonthlySpending')\n",
    "ax[0,1].set_xlabel('MonthlySpending')\n",
    "ax[0,1].set_ylabel('Quantity')\n",
    "\n",
    "ax[0,2].hist(data['TotalSpent'], bins=20)\n",
    "ax[0,2].set_title('Распределение для TotalSpent')\n",
    "ax[0,2].set_xlabel('TotalSpent')\n",
    "ax[0,2].set_ylabel('Quantity')\n",
    "\n",
    "sns.boxplot(data=data['ClientPeriod'], orient='h', ax=ax[1,0])\n",
    "sns.boxplot(data=data['MonthlySpending'], orient='h', ax=ax[1,1])\n",
    "sns.boxplot(data=data['TotalSpent'], orient='h', ax=ax[1,2])\n",
    "\n",
    "None"
   ]
  },
  {
   "cell_type": "markdown",
   "metadata": {},
   "source": [
    "Из полученных графиков выбросов по численным признакам выявлено не было."
   ]
  },
  {
   "cell_type": "markdown",
   "metadata": {},
   "source": [
    "#### 2) Распределение категориальных признаков "
   ]
  },
  {
   "cell_type": "code",
   "execution_count": 16,
   "metadata": {},
   "outputs": [
    {
     "data": {
      "image/png": "[encoded data removed]",
      "text/plain": [
       "<Figure size 1152x1152 with 16 Axes>"
      ]
     },
     "metadata": {
      "needs_background": "light"
     },
     "output_type": "display_data"
    }
   ],
   "source": [
    "fig, ax = plt.subplots(4,4, figsize=(16,16), sharey=True)\n",
    "plt.subplots_adjust(wspace=0.2, hspace=0.4)\n",
    "\n",
    "for i in range(4):\n",
    "    for j in range(4):\n",
    "        col = np.array(cat_cols).reshape(4,4)[i,j]\n",
    "        ax[i,j].bar(data[col].unique().astype(str), height=data[col].value_counts())\n",
    "        ax[i,j].set_title(col)\n",
    "        plt.setp(ax[i,j].get_xticklabels(), rotation=25, ha='right')"
   ]
  },
  {
   "cell_type": "markdown",
   "metadata": {},
   "source": [
    "Почти по всем категориальным признакам видно довольно равномерное распределение, кроме:\n",
    "\n",
    "1) в датасете довольно мало пожилых людей, около 20% от общего числа(признак `IsSeniorCitizen`).<br>\n",
    "2) в датасете мало людей, у которых нет телефонного сервиса, около 10% от общего числа(признак `HasPhoneService`)."
   ]
  },
  {
   "cell_type": "markdown",
   "metadata": {},
   "source": [
    "#### 3) Распределение целевой переменной"
   ]
  },
  {
   "cell_type": "code",
   "execution_count": 17,
   "metadata": {},
   "outputs": [
    {
     "data": {
      "text/plain": [
       "'Churn'"
      ]
     },
     "execution_count": 17,
     "metadata": {},
     "output_type": "execute_result"
    }
   ],
   "source": [
    "target_col"
   ]
  },
  {
   "cell_type": "code",
   "execution_count": 18,
   "metadata": {},
   "outputs": [
    {
     "data": {
      "image/png": "[encoded data removed]",
      "text/plain": [
       "<Figure size 576x432 with 1 Axes>"
      ]
     },
     "metadata": {
      "needs_background": "light"
     },
     "output_type": "display_data"
    }
   ],
   "source": [
    "plt.figure(figsize=(8,6))\n",
    "plt.bar(data['Churn'].unique().astype(str), height=data['Churn'].value_counts())\n",
    "plt.title('Распределение целевой переменной')\n",
    "plt.ylabel('Quantity')\n",
    "plt.xlabel('Churn')\n",
    "\n",
    "\n",
    "None"
   ]
  },
  {
   "cell_type": "markdown",
   "metadata": {},
   "source": [
    "Большого дисбаланса в распределении классов не выявлено(количество элементов класса **0** примерно в 3 раза больше чем элементов класса **1**). Однако при оценке качества моделей все равно будет использоваться метрика `ROC-AUC`."
   ]
  },
  {
   "cell_type": "markdown",
   "metadata": {
    "id": "DviiJd8REEZK"
   },
   "source": [
    "## Применение линейных моделей (3 балла)\n",
    "\n",
    "1) Обработайте данные для того, чтобы к ним можно было применить LogisticRegression. Т.е. отнормируйте числовые признаки, а категориальные закодируйте с помощью one-hot-encoding'а. \n",
    "\n",
    "2) С помощью кроссвалидации или разделения на train/valid выборку протестируйте разные значения гиперпараметра C и выберите лучший (можно тестировать С=100, 10, 1, 0.1, 0.01, 0.001) по метрике ROC-AUC. \n",
    "\n",
    "Если вы разделяете на train/valid, то используйте LogisticRegressionCV. Он сам при вызове .fit() подберет параметр С. (не забудьте передать scoring='roc_auc', чтобы при кроссвалидации сравнивались значения этой метрики, и refit=True, чтобы потом модель обучилась на всем датасете с лучшим параметром C). \n",
    "\n",
    "\n",
    "(более сложный вариант) Если вы будете использовать кроссвалидацию, то преобразования данных и LogisticRegression нужно соединить в один Pipeline с помощью make_pipeline, как это делалось во втором семинаре. Потом pipeline надо передать в GridSearchCV. Для one-hot-encoding'a можно использовать комбинацию LabelEncoder + OneHotEncoder (сначала превращаем строчки в числа, а потом числа превращаем в one-hot вектора.)"
   ]
  },
  {
   "cell_type": "code",
   "execution_count": 19,
   "metadata": {
    "id": "xHCLDmwqEEZL"
   },
   "outputs": [],
   "source": [
    "from sklearn.linear_model import LogisticRegression, LogisticRegressionCV\n",
    "from sklearn.model_selection import train_test_split, GridSearchCV, RandomizedSearchCV\n",
    "from sklearn.preprocessing import StandardScaler, RobustScaler, LabelEncoder, OneHotEncoder\n",
    "from sklearn.pipeline import make_pipeline\n",
    "from sklearn.metrics import roc_auc_score\n",
    "from scikitplot.metrics import plot_roc"
   ]
  },
  {
   "cell_type": "markdown",
   "metadata": {},
   "source": [
    "Разделим данные на матрицу с фичами и столбец с таргетами:"
   ]
  },
  {
   "cell_type": "code",
   "execution_count": 20,
   "metadata": {
    "id": "P2Yv3uYtEEZO"
   },
   "outputs": [],
   "source": [
    "X = data.copy()\n",
    "X = X.drop(columns=['Churn'])\n",
    "y = data['Churn'].copy()"
   ]
  },
  {
   "cell_type": "markdown",
   "metadata": {},
   "source": [
    "Сделаем one-hot-encoding с помощью функции `pd.get_dummies`:"
   ]
  },
  {
   "cell_type": "code",
   "execution_count": 21,
   "metadata": {},
   "outputs": [],
   "source": [
    "X_dum = pd.get_dummies(X, drop_first=True)"
   ]
  },
  {
   "cell_type": "markdown",
   "metadata": {},
   "source": [
    "Теперь нормализуем данные с помощью `StandartScaler`:"
   ]
  },
  {
   "cell_type": "code",
   "execution_count": 22,
   "metadata": {},
   "outputs": [],
   "source": [
    "normalizer = StandardScaler()\n",
    "X_norm = normalizer.fit_transform(X_dum)"
   ]
  },
  {
   "cell_type": "code",
   "execution_count": 23,
   "metadata": {},
   "outputs": [],
   "source": [
    "X = np.array(X_norm)\n",
    "y = np.array(y)"
   ]
  },
  {
   "cell_type": "markdown",
   "metadata": {},
   "source": [
    "Разделим всю выборку на тренировочную и валидационную части:"
   ]
  },
  {
   "cell_type": "code",
   "execution_count": 24,
   "metadata": {},
   "outputs": [],
   "source": [
    "X_train, X_valid, y_train, y_valid = train_test_split(X, y, test_size=0.3, random_state=42)"
   ]
  },
  {
   "cell_type": "markdown",
   "metadata": {},
   "source": [
    "Теперь можно приступать к обучению моделей."
   ]
  },
  {
   "cell_type": "markdown",
   "metadata": {},
   "source": [
    "1) Получим лучшие параметры для линейной модели c помощью `GridSearchCV`:"
   ]
  },
  {
   "cell_type": "code",
   "execution_count": 25,
   "metadata": {},
   "outputs": [
    {
     "data": {
      "text/plain": [
       "{'C': 5, 'fit_intercept': True}"
      ]
     },
     "execution_count": 25,
     "metadata": {},
     "output_type": "execute_result"
    }
   ],
   "source": [
    "lr = LogisticRegression(multi_class='multinomial', penalty='l2', solver='saga', tol=1e-3, max_iter=500)\n",
    "params = {\n",
    "    'C': [100, 50, 10, 5, 1, 0.5, 0.1, 0.05, 0.01, 0.005, 0.001],\n",
    "    'fit_intercept': [True, False]\n",
    "}\n",
    "\n",
    "cv = GridSearchCV(lr, param_grid = params, n_jobs = -2, scoring='roc_auc')\n",
    "cv.fit(X_train, y_train)\n",
    "cv.best_params_"
   ]
  },
  {
   "cell_type": "code",
   "execution_count": 26,
   "metadata": {},
   "outputs": [],
   "source": [
    "lr_clf = LogisticRegression(multi_class='multinomial', \n",
    "                         penalty='l2', solver='saga',\n",
    "                         tol=1e-3, max_iter=500,\n",
    "                         C=5, fit_intercept=True)\n",
    "\n",
    "lr_clf.fit(X_train, y_train)\n",
    "y_pred = lr_clf.predict(X_valid)\n",
    "y_pred_proba = lr_clf.predict_proba(X_valid)"
   ]
  },
  {
   "cell_type": "code",
   "execution_count": 27,
   "metadata": {},
   "outputs": [
    {
     "name": "stdout",
     "output_type": "stream",
     "text": [
      "ROC-AUC score for LogisticRegression: 0.8372117705818697\n"
     ]
    },
    {
     "data": {
      "image/png": "[encoded data removed]",
      "text/plain": [
       "<Figure size 432x288 with 1 Axes>"
      ]
     },
     "metadata": {
      "needs_background": "light"
     },
     "output_type": "display_data"
    }
   ],
   "source": [
    "plot_roc(y_valid, y_pred_proba)\n",
    "print('ROC-AUC score for LogisticRegression:', roc_auc_score(y_valid, y_pred_proba[:,1]))"
   ]
  },
  {
   "cell_type": "markdown",
   "metadata": {},
   "source": [
    "Лучший результат для `LogisticRegression`:\n",
    "- Гиперпараметры: `C`=5, `fit_intercept`=True. \n",
    "- ROC-AUC score: 0.8372."
   ]
  },
  {
   "cell_type": "markdown",
   "metadata": {
    "id": "BlTeVy7fEEZR"
   },
   "source": [
    "## Применение градиентного бустинга (2 балла)\n",
    "\n",
    "Если вы хотите получить баллы за точный ответ, то стоит попробовать градиентный бустинг. Часто градиентный бустинг с дефолтными параметрами даст вам 80% результата за 0% усилий.\n",
    "\n",
    "Мы будем использовать catboost, поэтому нам не надо кодировать категориальные признаки. catboost сделает это сам (в .fit() надо передать cat_features=cat_cols). А численные признаки нормировать для моделей, основанных на деревьях не нужно.\n",
    "\n",
    "1) Разделите выборку на train/valid. Протестируйте catboost cо стандартными параметрами.\n",
    "\n",
    "2) Протестируйте разные значения параметра количества деревьев и learning_rate'а и выберите лучшую по метрике ROC-AUC комбинацию. \n",
    "\n",
    "(Дополнительно) Есть некоторые сложности с тем, чтобы использовать CatBoostClassifier вместе с GridSearchCV, поэтому мы не просим использовать кроссвалидацию. Но можете попробовать)"
   ]
  },
  {
   "cell_type": "code",
   "execution_count": 28,
   "metadata": {},
   "outputs": [],
   "source": [
    "from catboost import CatBoostClassifier"
   ]
  },
  {
   "cell_type": "code",
   "execution_count": 29,
   "metadata": {
    "id": "Fioxxlp-EEZS"
   },
   "outputs": [],
   "source": [
    "X = data.copy()\n",
    "X = X.drop(columns=['Churn'])\n",
    "y = data['Churn'].copy()\n",
    "\n",
    "X_train, X_valid, y_train, y_valid = train_test_split(X, y, test_size=0.3, random_state=42)"
   ]
  },
  {
   "cell_type": "markdown",
   "metadata": {},
   "source": [
    "#### 1) Протестируем `CatBoostClassifier` со стандартными параметрами"
   ]
  },
  {
   "cell_type": "code",
   "execution_count": 30,
   "metadata": {},
   "outputs": [],
   "source": [
    "standart_catboost_clf = CatBoostClassifier(verbose=0)\n",
    "\n",
    "standart_catboost_clf.fit(X_train, y_train, cat_features=cat_cols)\n",
    "y_pred = standart_catboost_clf.predict(X_valid)\n",
    "y_pred_proba = standart_catboost_clf.predict_proba(X_valid)"
   ]
  },
  {
   "cell_type": "code",
   "execution_count": 31,
   "metadata": {},
   "outputs": [
    {
     "name": "stdout",
     "output_type": "stream",
     "text": [
      "ROC-AUC score: 0.8339496795138599\n"
     ]
    },
    {
     "data": {
      "image/png": "[encoded data removed]",
      "text/plain": [
       "<Figure size 432x288 with 1 Axes>"
      ]
     },
     "metadata": {
      "needs_background": "light"
     },
     "output_type": "display_data"
    }
   ],
   "source": [
    "plot_roc(y_valid, y_pred_proba)\n",
    "print('ROC-AUC score:', roc_auc_score(y_valid, y_pred_proba[:,1]))"
   ]
  },
  {
   "cell_type": "markdown",
   "metadata": {},
   "source": [
    "#### 2) Теперь попробуем подобрать наулучшие гиперпараметры и посмотрим на качество модели с этими гиперпараметрами"
   ]
  },
  {
   "cell_type": "code",
   "execution_count": 32,
   "metadata": {},
   "outputs": [
    {
     "data": {
      "text/plain": [
       "{'learning_rate': 0.001, 'num_trees': 6000}"
      ]
     },
     "execution_count": 32,
     "metadata": {},
     "output_type": "execute_result"
    }
   ],
   "source": [
    "catboost = CatBoostClassifier(verbose=0)\n",
    "\n",
    "params = {\n",
    "    'learning_rate': [0.001, 0.01, 0.1],\n",
    "    'num_trees': [100, 1000, 2000, 4000, 6000]\n",
    "}\n",
    "\n",
    "cv = GridSearchCV(catboost, param_grid = params, n_jobs = -2, scoring='roc_auc')\n",
    "cv.fit(X_train, y_train, cat_features=cat_cols)\n",
    "cv.best_params_"
   ]
  },
  {
   "cell_type": "code",
   "execution_count": 33,
   "metadata": {},
   "outputs": [],
   "source": [
    "catboost_clf = CatBoostClassifier(learning_rate=0.001, num_trees=6000, verbose=0)\n",
    "\n",
    "catboost_clf.fit(X_train, y_train, cat_features=cat_cols)\n",
    "y_pred = catboost_clf.predict(X_valid)\n",
    "y_pred_proba = catboost_clf.predict_proba(X_valid)"
   ]
  },
  {
   "cell_type": "code",
   "execution_count": 34,
   "metadata": {},
   "outputs": [
    {
     "name": "stdout",
     "output_type": "stream",
     "text": [
      "ROC-AUC score for CatBoost: 0.8366530009156747\n"
     ]
    },
    {
     "data": {
      "image/png": "[encoded data removed]",
      "text/plain": [
       "<Figure size 432x288 with 1 Axes>"
      ]
     },
     "metadata": {
      "needs_background": "light"
     },
     "output_type": "display_data"
    }
   ],
   "source": [
    "plot_roc(y_valid, y_pred_proba)\n",
    "print('ROC-AUC score for CatBoost:', roc_auc_score(y_valid, y_pred_proba[:,1]))"
   ]
  },
  {
   "cell_type": "markdown",
   "metadata": {},
   "source": [
    "Лучший результат для `CatBoost`:\n",
    "- Гиперпараметры: `learning_rate`=0.001, `num_trees`=6000. \n",
    "- ROC-AUC score: 0.8367."
   ]
  },
  {
   "cell_type": "markdown",
   "metadata": {
    "id": "dDMXbvNZEEZV"
   },
   "source": [
    "# Предсказания"
   ]
  },
  {
   "cell_type": "code",
   "execution_count": 35,
   "metadata": {
    "id": "G_P4wFNaEEZW",
    "outputId": "1fba5dfc-88e4-49e3-ed8a-afe21ae3325a"
   },
   "outputs": [],
   "source": [
    "best_model = catboost_clf"
   ]
  },
  {
   "cell_type": "code",
   "execution_count": 36,
   "metadata": {
    "id": "FfSufx0CEEZZ"
   },
   "outputs": [],
   "source": [
    "X_test = pd.read_csv('./test.csv')\n",
    "submission = pd.read_csv('./submission.csv')"
   ]
  },
  {
   "cell_type": "code",
   "execution_count": 37,
   "metadata": {},
   "outputs": [],
   "source": [
    "submission['Churn'] = best_model.predict_proba(X_test)[:,1]\n",
    "submission.to_csv('./my_submission.csv', index=False)"
   ]
  },
  {
   "cell_type": "markdown",
   "metadata": {
    "id": "mkxjbGkVEEZc"
   },
   "source": [
    "# Kaggle (5 баллов)\n",
    "\n",
    "Как выставить баллы:\n",
    "\n",
    "1) 1 >= roc auc > 0.84 это 5 баллов\n",
    "\n",
    "2) 0.84 >= roc auc > 0.7 это 3 балла\n",
    "\n",
    "3) 0.7 >= roc auc > 0.6 это 1 балл\n",
    "\n",
    "4) 0.6 >= roc auc это 0 баллов\n",
    "\n",
    "\n",
    "Для выполнения задания необходимо выполнить следующие шаги.\n",
    "* Зарегистрироваться на платформе [kaggle.com](kaggle.com). Процесс выставления оценок будет проходить при подведении итогового рейтинга. Пожалуйста, укажите во вкладке Team -> Team name свои имя и фамилию в формате Имя_Фамилия (важно, чтобы имя и фамилия совпадали с данными на Stepik).\n",
    "* Обучить модель, получить файл с ответами в формате .csv и сдать его в конкурс. Пробуйте и экспериментируйте. Обратите внимание, что вы можете выполнять до 20 попыток сдачи на kaggle в день.\n",
    "* После окончания соревнования отправить в итоговый ноутбук с решением на степик. \n",
    "* После дедлайна проверьте посылки других участников по критериям. Для этого надо зайти на степик, скачать их ноутбук и проверить скор в соревновании."
   ]
  },
  {
   "cell_type": "markdown",
   "metadata": {},
   "source": [
    "# Результаты"
   ]
  },
  {
   "cell_type": "markdown",
   "metadata": {},
   "source": [
    "По итогу, на сайте `Kaggle` был получен **score**=0.85015:"
   ]
  },
  {
   "cell_type": "markdown",
   "metadata": {},
   "source": [
    "<img src='./result.png' style=\"height: 500px\">"
   ]
  },
  {
   "cell_type": "code",
   "execution_count": null,
   "metadata": {},
   "outputs": [],
   "source": []
  }
 ],
 "metadata": {
  "colab": {
   "collapsed_sections": [],
   "name": "baseline.ipynb",
   "provenance": []
  },
  "kernelspec": {
   "display_name": "Python 3 (ipykernel)",
   "language": "python",
   "name": "python3"
  },
  "language_info": {
   "codemirror_mode": {
    "name": "ipython",
    "version": 3
   },
   "file_extension": ".py",
   "mimetype": "text/x-python",
   "name": "python",
   "nbconvert_exporter": "python",
   "pygments_lexer": "ipython3",
   "version": "3.9.7"
  }
 },
 "nbformat": 4,
 "nbformat_minor": 1
}
